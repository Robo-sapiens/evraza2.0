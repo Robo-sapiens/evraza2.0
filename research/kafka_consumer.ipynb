{
 "cells": [
  {
   "cell_type": "markdown",
   "id": "77467c8d",
   "metadata": {},
   "source": [
    "# Kafka consumer example"
   ]
  },
  {
   "cell_type": "code",
   "execution_count": 1,
   "id": "dedccfab",
   "metadata": {},
   "outputs": [],
   "source": [
    "# !pip install kafka-python"
   ]
  },
  {
   "cell_type": "code",
   "execution_count": 2,
   "id": "7c0c5be7",
   "metadata": {},
   "outputs": [],
   "source": [
    "from kafka import KafkaConsumer"
   ]
  },
  {
   "cell_type": "markdown",
   "id": "56445ec1",
   "metadata": {},
   "source": [
    "[KafkaConsumer](https://kafka-python.readthedocs.io/en/master/apidoc/KafkaConsumer.html)"
   ]
  },
  {
   "cell_type": "markdown",
   "id": "e31c926b",
   "metadata": {},
   "source": [
    "### Connection data"
   ]
  },
  {
   "cell_type": "code",
   "execution_count": 3,
   "id": "6ac622eb",
   "metadata": {},
   "outputs": [],
   "source": [
    "KAFKA_HOST = \"rc1a-b5e65f36lm3an1d5.mdb.yandexcloud.net:9091\"\n",
    "KAFKA_TOPIC = \"zsmk-9433-dev-01\"\n",
    "\n",
    "KAFKA_GROUP = \"Robo sapiens\"\n",
    "KAFKA_USER = \"9433_reader\"\n",
    "KAFKA_PASSWORD = \"eUIpgWu0PWTJaTrjhjQD3.hoyhntiK\"\n",
    "\n",
    "SASL_MECHANISM = \"SCRAM-SHA-512\"\n",
    "SASL_SSL = \"SASL_SSL\"\n",
    "CAFILE = \"CA.pem\""
   ]
  },
  {
   "cell_type": "markdown",
   "id": "57836ddf",
   "metadata": {},
   "source": [
    "_File **CA.pem** must be saved in current directory_"
   ]
  },
  {
   "cell_type": "markdown",
   "id": "c049b160",
   "metadata": {},
   "source": [
    "### Create consumer instance"
   ]
  },
  {
   "cell_type": "code",
   "execution_count": 4,
   "id": "98d8d371",
   "metadata": {},
   "outputs": [],
   "source": [
    "consumer = KafkaConsumer(\n",
    "    bootstrap_servers=KAFKA_HOST,\n",
    "    group_id=KAFKA_GROUP,\n",
    "    sasl_plain_username=KAFKA_USER,\n",
    "    sasl_plain_password=KAFKA_PASSWORD,\n",
    "    sasl_mechanism=SASL_MECHANISM,\n",
    "    security_protocol=SASL_SSL,\n",
    "    ssl_cafile=CAFILE,\n",
    ")"
   ]
  },
  {
   "cell_type": "markdown",
   "id": "72cd0c9e",
   "metadata": {},
   "source": [
    "### Check Kafka is connected"
   ]
  },
  {
   "cell_type": "code",
   "execution_count": 5,
   "id": "527cc9f4",
   "metadata": {},
   "outputs": [
    {
     "data": {
      "text/plain": [
       "True"
      ]
     },
     "execution_count": 5,
     "metadata": {},
     "output_type": "execute_result"
    }
   ],
   "source": [
    "consumer.bootstrap_connected()"
   ]
  },
  {
   "cell_type": "markdown",
   "id": "ef23ca74",
   "metadata": {},
   "source": [
    "### Subscribe to a topic"
   ]
  },
  {
   "cell_type": "code",
   "execution_count": 6,
   "id": "6b0c1041",
   "metadata": {},
   "outputs": [],
   "source": [
    "consumer.subscribe(KAFKA_TOPIC)"
   ]
  },
  {
   "cell_type": "markdown",
   "id": "9c25be04",
   "metadata": {},
   "source": [
    "### Get  a single message"
   ]
  },
  {
   "cell_type": "code",
   "execution_count": 7,
   "id": "d2ee5fed",
   "metadata": {},
   "outputs": [
    {
     "data": {
      "text/plain": [
       "ConsumerRecord(topic='zsmk-9433-dev-01', partition=0, offset=32192, timestamp=1676663700502, timestamp_type=0, key=None, value=b'{\"moment\": \"2023-02-17T19:54:25.439816\", \"SM_Exgauster\\\\\\\\[0:0]\": 1.4004629850387573, \"SM_Exgauster\\\\\\\\[0:1]\": 1.388888955116272, \"SM_Exgauster\\\\\\\\[0:2]\": 0.8511626124382019, \"SM_Exgauster\\\\\\\\[0:3]\": 1.967592477798462, \"SM_Exgauster\\\\\\\\[0:4]\": 1.9907407760620117, \"SM_Exgauster\\\\\\\\[0:5]\": 1.3252315521240234, \"SM_Exgauster\\\\\\\\[0:6]\": 1.9656870365142822, \"SM_Exgauster\\\\\\\\[0:7]\": 1.8634259700775146, \"SM_Exgauster\\\\\\\\[0:8]\": 1.8199514150619507, \"SM_Exgauster\\\\\\\\[0:9]\": 1.6435184478759766, \"SM_Exgauster\\\\\\\\[0:10]\": 2.193286895751953, \"SM_Exgauster\\\\\\\\[0:11]\": 1.0416666269302368, \"SM_Exgauster\\\\\\\\[0:12]\": 1.846064805984497, \"SM_Exgauster\\\\\\\\[0:13]\": 1.7766202688217163, \"SM_Exgauster\\\\\\\\[0:14]\": 0.5613425970077515, \"SM_Exgauster\\\\\\\\[0:15]\": 1.655092477798462, \"SM_Exgauster\\\\\\\\[0:16]\": 2.309027671813965, \"SM_Exgauster\\\\\\\\[0:17]\": 1.1921296119689941, \"SM_Exgauster\\\\\\\\[0:18]\": 1.3831018209457397, \"SM_Exgauster\\\\\\\\[0:19]\": 1.25, \"SM_Exgauster\\\\\\\\[0:20]\": 2.436342477798462, \"SM_Exgauster\\\\\\\\[0:21]\": 1.0185184478759766, \"SM_Exgauster\\\\\\\\[0:22]\": 0.734953761100769, \"SM_Exgauster\\\\\\\\[0:23]\": 1.9502315521240234, \"SM_Exgauster\\\\\\\\[0:24]\": 100.94235229492188, \"SM_Exgauster\\\\\\\\[0:25]\": 105.4423599243164, \"SM_Exgauster\\\\\\\\[0:27]\": 48.599998474121094, \"SM_Exgauster\\\\\\\\[0:28]\": 47.399993896484375, \"SM_Exgauster\\\\\\\\[0:29]\": 42.099998474121094, \"SM_Exgauster\\\\\\\\[0:30]\": 45.70000457763672, \"SM_Exgauster\\\\\\\\[0:31]\": 41.5, \"SM_Exgauster\\\\\\\\[0:32]\": 39.900001525878906, \"SM_Exgauster\\\\\\\\[0:33]\": 32.0, \"SM_Exgauster\\\\\\\\[0:34]\": 39.30000305175781, \"SM_Exgauster\\\\\\\\[0:35]\": 39.20000457763672, \"SM_Exgauster\\\\\\\\[0:36]\": 23.29999542236328, \"SM_Exgauster\\\\\\\\[0:37]\": 25.800003051757812, \"SM_Exgauster\\\\\\\\[0:41]\": 36.29999542236328, \"SM_Exgauster\\\\\\\\[0:42]\": 34.79999542236328, \"SM_Exgauster\\\\\\\\[0:43]\": 51.19999694824219, \"SM_Exgauster\\\\\\\\[0:44]\": 54.099998474121094, \"SM_Exgauster\\\\\\\\[0:45]\": 45.0, \"SM_Exgauster\\\\\\\\[0:46]\": -3276.800048828125, \"SM_Exgauster\\\\\\\\[0:47]\": 49.0, \"SM_Exgauster\\\\\\\\[0:48]\": 44.400001525878906, \"SM_Exgauster\\\\\\\\[0:49]\": 43.30000305175781, \"SM_Exgauster\\\\\\\\[0:50]\": 34.0, \"SM_Exgauster\\\\\\\\[0:51]\": 46.0, \"SM_Exgauster\\\\\\\\[0:52]\": 43.19999694824219, \"SM_Exgauster\\\\\\\\[0:53]\": 25.5, \"SM_Exgauster\\\\\\\\[0:54]\": 23.099998474121094, \"SM_Exgauster\\\\\\\\[0:55]\": -118.51851654052734, \"SM_Exgauster\\\\\\\\[0:56]\": -3276.800048828125, \"SM_Exgauster\\\\\\\\[0:57]\": -3276.800048828125, \"SM_Exgauster\\\\\\\\[0:58]\": -3276.800048828125, \"SM_Exgauster\\\\\\\\[0:59]\": 33.20000457763672, \"SM_Exgauster\\\\\\\\[0:60]\": 40.20000457763672, \"SM_Exgauster\\\\\\\\[0:61]\": 802.22802734375, \"SM_Exgauster\\\\\\\\[0:62]\": 810.9086303710938, \"SM_Exgauster\\\\\\\\[0:63]\": 75.0, \"SM_Exgauster\\\\\\\\[0:64]\": 75.0, \"SM_Exgauster\\\\\\\\[0:65]\": 75.0, \"SM_Exgauster\\\\\\\\[0:66]\": 75.0, \"SM_Exgauster\\\\\\\\[0:67]\": 75.0, \"SM_Exgauster\\\\\\\\[0:68]\": 75.0, \"SM_Exgauster\\\\\\\\[0:69]\": 75.0, \"SM_Exgauster\\\\\\\\[0:70]\": 75.0, \"SM_Exgauster\\\\\\\\[0:71]\": 75.0, \"SM_Exgauster\\\\\\\\[0:72]\": 0.0, \"SM_Exgauster\\\\\\\\[0:73]\": 0.0, \"SM_Exgauster\\\\\\\\[0:74]\": 0.0, \"SM_Exgauster\\\\\\\\[0:75]\": 0.0, \"SM_Exgauster\\\\\\\\[0:76]\": 0.0, \"SM_Exgauster\\\\\\\\[0:77]\": 0.0, \"SM_Exgauster\\\\\\\\[0:78]\": 0.0, \"SM_Exgauster\\\\\\\\[0:79]\": 0.0, \"SM_Exgauster\\\\\\\\[0:80]\": 0.0, \"SM_Exgauster\\\\\\\\[0:81]\": 65.0, \"SM_Exgauster\\\\\\\\[0:82]\": 65.0, \"SM_Exgauster\\\\\\\\[0:83]\": 65.0, \"SM_Exgauster\\\\\\\\[0:84]\": 65.0, \"SM_Exgauster\\\\\\\\[0:85]\": 65.0, \"SM_Exgauster\\\\\\\\[0:86]\": 65.0, \"SM_Exgauster\\\\\\\\[0:87]\": 65.0, \"SM_Exgauster\\\\\\\\[0:88]\": 65.0, \"SM_Exgauster\\\\\\\\[0:89]\": 65.0, \"SM_Exgauster\\\\\\\\[0:90]\": 0.0, \"SM_Exgauster\\\\\\\\[0:91]\": 0.0, \"SM_Exgauster\\\\\\\\[0:92]\": 0.0, \"SM_Exgauster\\\\\\\\[0:93]\": 0.0, \"SM_Exgauster\\\\\\\\[0:94]\": 0.0, \"SM_Exgauster\\\\\\\\[0:95]\": 0.0, \"SM_Exgauster\\\\\\\\[0:96]\": 0.0, \"SM_Exgauster\\\\\\\\[0:97]\": 0.0, \"SM_Exgauster\\\\\\\\[0:98]\": 0.0, \"SM_Exgauster\\\\\\\\[0:99]\": 75.0, \"SM_Exgauster\\\\\\\\[0:100]\": 75.0, \"SM_Exgauster\\\\\\\\[0:101]\": 75.0, \"SM_Exgauster\\\\\\\\[0:102]\": 75.0, \"SM_Exgauster\\\\\\\\[0:103]\": 75.0, \"SM_Exgauster\\\\\\\\[0:104]\": 75.0, \"SM_Exgauster\\\\\\\\[0:105]\": 75.0, \"SM_Exgauster\\\\\\\\[0:106]\": 75.0, \"SM_Exgauster\\\\\\\\[0:107]\": 75.0, \"SM_Exgauster\\\\\\\\[0:108]\": 0.0, \"SM_Exgauster\\\\\\\\[0:109]\": 0.0, \"SM_Exgauster\\\\\\\\[0:110]\": 0.0, \"SM_Exgauster\\\\\\\\[0:111]\": 0.0, \"SM_Exgauster\\\\\\\\[0:112]\": 0.0, \"SM_Exgauster\\\\\\\\[0:113]\": 0.0, \"SM_Exgauster\\\\\\\\[0:114]\": 0.0, \"SM_Exgauster\\\\\\\\[0:115]\": 0.0, \"SM_Exgauster\\\\\\\\[0:116]\": 0.0, \"SM_Exgauster\\\\\\\\[0:117]\": 65.0, \"SM_Exgauster\\\\\\\\[0:118]\": 65.0, \"SM_Exgauster\\\\\\\\[0:119]\": 65.0, \"SM_Exgauster\\\\\\\\[0:120]\": 65.0, \"SM_Exgauster\\\\\\\\[0:121]\": 65.0, \"SM_Exgauster\\\\\\\\[0:122]\": 65.0, \"SM_Exgauster\\\\\\\\[0:123]\": 65.0, \"SM_Exgauster\\\\\\\\[0:124]\": 65.0, \"SM_Exgauster\\\\\\\\[0:125]\": 65.0, \"SM_Exgauster\\\\\\\\[0:126]\": 0.0, \"SM_Exgauster\\\\\\\\[0:127]\": 0.0, \"SM_Exgauster\\\\\\\\[0:128]\": 0.0, \"SM_Exgauster\\\\\\\\[0:129]\": 0.0, \"SM_Exgauster\\\\\\\\[0:130]\": 0.0, \"SM_Exgauster\\\\\\\\[0:131]\": 0.0, \"SM_Exgauster\\\\\\\\[0:132]\": 0.0, \"SM_Exgauster\\\\\\\\[0:133]\": 0.0, \"SM_Exgauster\\\\\\\\[0:134]\": 0.0, \"SM_Exgauster\\\\\\\\[0:135]\": 7.099999904632568, \"SM_Exgauster\\\\\\\\[0:136]\": 7.099999904632568, \"SM_Exgauster\\\\\\\\[0:137]\": 7.099999904632568, \"SM_Exgauster\\\\\\\\[0:138]\": 7.099999904632568, \"SM_Exgauster\\\\\\\\[0:139]\": 7.099999904632568, \"SM_Exgauster\\\\\\\\[0:140]\": 7.099999904632568, \"SM_Exgauster\\\\\\\\[0:141]\": 7.099999904632568, \"SM_Exgauster\\\\\\\\[0:142]\": 7.099999904632568, \"SM_Exgauster\\\\\\\\[0:143]\": 7.099999904632568, \"SM_Exgauster\\\\\\\\[0:144]\": 7.099999904632568, \"SM_Exgauster\\\\\\\\[0:145]\": 7.099999904632568, \"SM_Exgauster\\\\\\\\[0:146]\": 7.099999904632568, \"SM_Exgauster\\\\\\\\[0:147]\": 0.0, \"SM_Exgauster\\\\\\\\[0:148]\": 0.0, \"SM_Exgauster\\\\\\\\[0:149]\": 0.0, \"SM_Exgauster\\\\\\\\[0:150]\": 0.0, \"SM_Exgauster\\\\\\\\[0:151]\": 0.0, \"SM_Exgauster\\\\\\\\[0:152]\": 0.0, \"SM_Exgauster\\\\\\\\[0:153]\": 0.0, \"SM_Exgauster\\\\\\\\[0:154]\": 0.0, \"SM_Exgauster\\\\\\\\[0:155]\": 0.0, \"SM_Exgauster\\\\\\\\[0:156]\": 0.0, \"SM_Exgauster\\\\\\\\[0:157]\": 0.0, \"SM_Exgauster\\\\\\\\[0:158]\": 0.0, \"SM_Exgauster\\\\\\\\[0:159]\": 4.5, \"SM_Exgauster\\\\\\\\[0:160]\": 4.5, \"SM_Exgauster\\\\\\\\[0:161]\": 4.5, \"SM_Exgauster\\\\\\\\[0:162]\": 4.5, \"SM_Exgauster\\\\\\\\[0:163]\": 4.5, \"SM_Exgauster\\\\\\\\[0:164]\": 4.5, \"SM_Exgauster\\\\\\\\[0:165]\": 4.5, \"SM_Exgauster\\\\\\\\[0:166]\": 4.5, \"SM_Exgauster\\\\\\\\[0:167]\": 4.5, \"SM_Exgauster\\\\\\\\[0:168]\": 4.5, \"SM_Exgauster\\\\\\\\[0:169]\": 4.5, \"SM_Exgauster\\\\\\\\[0:170]\": 4.5, \"SM_Exgauster\\\\\\\\[0:171]\": 0.0, \"SM_Exgauster\\\\\\\\[0:172]\": 0.0, \"SM_Exgauster\\\\\\\\[0:173]\": 0.0, \"SM_Exgauster\\\\\\\\[0:174]\": 0.0, \"SM_Exgauster\\\\\\\\[0:175]\": 0.0, \"SM_Exgauster\\\\\\\\[0:176]\": 0.0, \"SM_Exgauster\\\\\\\\[0:177]\": 0.0, \"SM_Exgauster\\\\\\\\[0:178]\": 0.0, \"SM_Exgauster\\\\\\\\[0:179]\": 0.0, \"SM_Exgauster\\\\\\\\[0:180]\": 0.0, \"SM_Exgauster\\\\\\\\[0:181]\": 0.0, \"SM_Exgauster\\\\\\\\[0:182]\": 0.0, \"SM_Exgauster\\\\\\\\[0:183]\": 7.099999904632568, \"SM_Exgauster\\\\\\\\[0:184]\": 7.099999904632568, \"SM_Exgauster\\\\\\\\[0:185]\": 7.099999904632568, \"SM_Exgauster\\\\\\\\[0:186]\": 7.099999904632568, \"SM_Exgauster\\\\\\\\[0:187]\": 7.099999904632568, \"SM_Exgauster\\\\\\\\[0:188]\": 7.099999904632568, \"SM_Exgauster\\\\\\\\[0:189]\": 7.099999904632568, \"SM_Exgauster\\\\\\\\[0:190]\": 7.099999904632568, \"SM_Exgauster\\\\\\\\[0:191]\": 7.099999904632568, \"SM_Exgauster\\\\\\\\[0:192]\": 7.099999904632568, \"SM_Exgauster\\\\\\\\[0:193]\": 7.099999904632568, \"SM_Exgauster\\\\\\\\[0:194]\": 7.099999904632568, \"SM_Exgauster\\\\\\\\[0:195]\": 0.0, \"SM_Exgauster\\\\\\\\[0:196]\": 0.0, \"SM_Exgauster\\\\\\\\[0:197]\": 0.0, \"SM_Exgauster\\\\\\\\[0:198]\": 0.0, \"SM_Exgauster\\\\\\\\[0:199]\": 0.0, \"SM_Exgauster\\\\\\\\[0:200]\": 0.0, \"SM_Exgauster\\\\\\\\[0:201]\": 0.0, \"SM_Exgauster\\\\\\\\[0:202]\": 0.0, \"SM_Exgauster\\\\\\\\[0:203]\": 0.0, \"SM_Exgauster\\\\\\\\[0:204]\": 0.0, \"SM_Exgauster\\\\\\\\[0:205]\": 0.0, \"SM_Exgauster\\\\\\\\[0:206]\": 0.0, \"SM_Exgauster\\\\\\\\[0:207]\": 4.5, \"SM_Exgauster\\\\\\\\[0:208]\": 4.5, \"SM_Exgauster\\\\\\\\[0:209]\": 4.5, \"SM_Exgauster\\\\\\\\[0:210]\": 4.5, \"SM_Exgauster\\\\\\\\[0:211]\": 4.5, \"SM_Exgauster\\\\\\\\[0:212]\": 4.5, \"SM_Exgauster\\\\\\\\[0:213]\": 4.5, \"SM_Exgauster\\\\\\\\[0:214]\": 4.5, \"SM_Exgauster\\\\\\\\[0:215]\": 4.5, \"SM_Exgauster\\\\\\\\[0:216]\": 4.5, \"SM_Exgauster\\\\\\\\[0:217]\": 4.5, \"SM_Exgauster\\\\\\\\[0:218]\": 4.5, \"SM_Exgauster\\\\\\\\[0:219]\": 0.0, \"SM_Exgauster\\\\\\\\[0:220]\": 0.0, \"SM_Exgauster\\\\\\\\[0:221]\": 0.0, \"SM_Exgauster\\\\\\\\[0:222]\": 0.0, \"SM_Exgauster\\\\\\\\[0:223]\": 0.0, \"SM_Exgauster\\\\\\\\[0:224]\": 0.0, \"SM_Exgauster\\\\\\\\[0:225]\": 0.0, \"SM_Exgauster\\\\\\\\[0:226]\": 0.0, \"SM_Exgauster\\\\\\\\[0:227]\": 0.0, \"SM_Exgauster\\\\\\\\[0:228]\": 0.0, \"SM_Exgauster\\\\\\\\[0:229]\": 0.0, \"SM_Exgauster\\\\\\\\[0:230]\": 0.0, \"SM_Exgauster\\\\\\\\[0.0]\": 1.0, \"SM_Exgauster\\\\\\\\[0.1]\": 1.0, \"SM_Exgauster\\\\\\\\[1:0]\": 68.4000015258789, \"SM_Exgauster\\\\\\\\[1:1]\": 0.800000011920929, \"SM_Exgauster\\\\\\\\[1:2]\": 1863.0, \"SM_Exgauster\\\\\\\\[1:3]\": 2009.0, \"SM_Exgauster\\\\\\\\[1:4]\": -1.0, \"SM_Exgauster\\\\\\\\[1:5]\": 107.0, \"SM_Exgauster\\\\\\\\[1:6]\": 10.0, \"SM_Exgauster\\\\\\\\[1:7]\": 70.4000015258789, \"SM_Exgauster\\\\\\\\[1:8]\": 0.9150000214576721, \"SM_Exgauster\\\\\\\\[1:9]\": 1077.0, \"SM_Exgauster\\\\\\\\[1:10]\": 1906.0, \"SM_Exgauster\\\\\\\\[1:11]\": 2.0, \"SM_Exgauster\\\\\\\\[1:12]\": 107.0, \"SM_Exgauster\\\\\\\\[1:13]\": 10.0, \"SM_Exgauster\\\\\\\\[1.0]\": 1.0, \"SM_Exgauster\\\\\\\\[1.1]\": 0.0, \"SM_Exgauster\\\\\\\\[1.2]\": 1.0, \"SM_Exgauster\\\\\\\\[1.3]\": 0.0, \"SM_Exgauster\\\\\\\\[1.4]\": 0.0, \"SM_Exgauster\\\\\\\\[1.5]\": 1.0, \"SM_Exgauster\\\\\\\\[1.6]\": 0.0, \"SM_Exgauster\\\\\\\\[1.7]\": 1.0, \"SM_Exgauster\\\\\\\\[1.8]\": 0.0, \"SM_Exgauster\\\\\\\\[1.9]\": 0.0, \"SM_Exgauster\\\\\\\\[2:0]\": 0.2256944477558136, \"SM_Exgauster\\\\\\\\[2:1]\": 0.28935185074806213, \"SM_Exgauster\\\\\\\\[2:2]\": 0.26620370149612427, \"SM_Exgauster\\\\\\\\[2:3]\": 0.3509121835231781, \"SM_Exgauster\\\\\\\\[2:4]\": 0.5902777910232544, \"SM_Exgauster\\\\\\\\[2:5]\": 0.21412037312984467, \"SM_Exgauster\\\\\\\\[2:6]\": 0.46296295523643494, \"SM_Exgauster\\\\\\\\[2:7]\": 1.0741065740585327, \"SM_Exgauster\\\\\\\\[2:8]\": 1.313657522201538, \"SM_Exgauster\\\\\\\\[2:9]\": 0.49768519401550293, \"SM_Exgauster\\\\\\\\[2:10]\": 0.25462961196899414, \"SM_Exgauster\\\\\\\\[2:11]\": 0.8738425970077515, \"SM_Exgauster\\\\\\\\[2:12]\": 1.267361044883728, \"SM_Exgauster\\\\\\\\[2:13]\": 1.8055555820465088, \"SM_Exgauster\\\\\\\\[2:14]\": 2.378472328186035, \"SM_Exgauster\\\\\\\\[2:15]\": 1.064814805984497, \"SM_Exgauster\\\\\\\\[2:16]\": 1.5393518209457397, \"SM_Exgauster\\\\\\\\[2:17]\": 1.7303240299224854, \"SM_Exgauster\\\\\\\\[2:18]\": 0.6134259104728699, \"SM_Exgauster\\\\\\\\[2:19]\": 0.7465277910232544, \"SM_Exgauster\\\\\\\\[2:20]\": 0.46875, \"SM_Exgauster\\\\\\\\[2:21]\": 1.452546238899231, \"SM_Exgauster\\\\\\\\[2:22]\": 0.7175925970077515, \"SM_Exgauster\\\\\\\\[2:23]\": 1.6840277910232544, \"SM_Exgauster\\\\\\\\[2:24]\": 115.89004516601562, \"SM_Exgauster\\\\\\\\[2:25]\": 116.99004364013672, \"SM_Exgauster\\\\\\\\[2:27]\": 62.5, \"SM_Exgauster\\\\\\\\[2:28]\": 57.29999542236328, \"SM_Exgauster\\\\\\\\[2:29]\": 48.400001525878906, \"SM_Exgauster\\\\\\\\[2:30]\": 51.5, \"SM_Exgauster\\\\\\\\[2:31]\": 41.399993896484375, \"SM_Exgauster\\\\\\\\[2:32]\": 42.69999694824219, \"SM_Exgauster\\\\\\\\[2:33]\": 39.0, \"SM_Exgauster\\\\\\\\[2:34]\": 42.19999694824219, \"SM_Exgauster\\\\\\\\[2:35]\": 42.599998474121094, \"SM_Exgauster\\\\\\\\[2:36]\": 25.399999618530273, \"SM_Exgauster\\\\\\\\[2:37]\": 26.300003051757812, \"SM_Exgauster\\\\\\\\[2:41]\": 33.600006103515625, \"SM_Exgauster\\\\\\\\[2:42]\": 30.199996948242188, \"SM_Exgauster\\\\\\\\[2:43]\": 52.900001525878906, \"SM_Exgauster\\\\\\\\[2:44]\": 63.100006103515625, \"SM_Exgauster\\\\\\\\[2:45]\": 46.599998474121094, \"SM_Exgauster\\\\\\\\[2:46]\": 56.0, \"SM_Exgauster\\\\\\\\[2:47]\": 45.30000305175781, \"SM_Exgauster\\\\\\\\[2:48]\": 36.5, \"SM_Exgauster\\\\\\\\[2:49]\": 36.79999542236328, \"SM_Exgauster\\\\\\\\[2:50]\": 33.0, \"SM_Exgauster\\\\\\\\[2:51]\": 37.19999694824219, \"SM_Exgauster\\\\\\\\[2:52]\": 39.900001525878906, \"SM_Exgauster\\\\\\\\[2:53]\": 24.699996948242188, \"SM_Exgauster\\\\\\\\[2:54]\": 24.5, \"SM_Exgauster\\\\\\\\[2:55]\": -118.51851654052734, \"SM_Exgauster\\\\\\\\[2:56]\": 24.5, \"SM_Exgauster\\\\\\\\[2:57]\": 3276.69970703125, \"SM_Exgauster\\\\\\\\[2:58]\": 3276.69970703125, \"SM_Exgauster\\\\\\\\[2:59]\": 27.600006103515625, \"SM_Exgauster\\\\\\\\[2:60]\": 23.79999542236328, \"SM_Exgauster\\\\\\\\[2:61]\": 762.442138671875, \"SM_Exgauster\\\\\\\\[2:62]\": 705.2951049804688, \"SM_Exgauster\\\\\\\\[2:63]\": 2.0393519401550293, \"SM_Exgauster\\\\\\\\[2:64]\": 1.9456018209457397, \"SM_Exgauster\\\\\\\\[2:65]\": 75.0, \"SM_Exgauster\\\\\\\\[2:66]\": 75.0, \"SM_Exgauster\\\\\\\\[2:67]\": 75.0, \"SM_Exgauster\\\\\\\\[2:68]\": 75.0, \"SM_Exgauster\\\\\\\\[2:69]\": 75.0, \"SM_Exgauster\\\\\\\\[2:70]\": 75.0, \"SM_Exgauster\\\\\\\\[2:71]\": 75.0, \"SM_Exgauster\\\\\\\\[2:72]\": 75.0, \"SM_Exgauster\\\\\\\\[2:73]\": 75.0, \"SM_Exgauster\\\\\\\\[2:74]\": 0.0, \"SM_Exgauster\\\\\\\\[2:75]\": 0.0, \"SM_Exgauster\\\\\\\\[2:76]\": 0.0, \"SM_Exgauster\\\\\\\\[2:77]\": 0.0, \"SM_Exgauster\\\\\\\\[2:78]\": 0.0, \"SM_Exgauster\\\\\\\\[2:79]\": 10.0, \"SM_Exgauster\\\\\\\\[2:80]\": 0.0, \"SM_Exgauster\\\\\\\\[2:81]\": 0.0, \"SM_Exgauster\\\\\\\\[2:82]\": 0.0, \"SM_Exgauster\\\\\\\\[2:83]\": 65.0, \"SM_Exgauster\\\\\\\\[2:84]\": 65.0, \"SM_Exgauster\\\\\\\\[2:85]\": 65.0, \"SM_Exgauster\\\\\\\\[2:86]\": 65.0, \"SM_Exgauster\\\\\\\\[2:87]\": 65.0, \"SM_Exgauster\\\\\\\\[2:88]\": 65.0, \"SM_Exgauster\\\\\\\\[2:89]\": 65.0, \"SM_Exgauster\\\\\\\\[2:90]\": 65.0, \"SM_Exgauster\\\\\\\\[2:91]\": 65.0, \"SM_Exgauster\\\\\\\\[2:92]\": 0.0, \"SM_Exgauster\\\\\\\\[2:93]\": 0.0, \"SM_Exgauster\\\\\\\\[2:94]\": 0.0, \"SM_Exgauster\\\\\\\\[2:95]\": 0.0, \"SM_Exgauster\\\\\\\\[2:96]\": 0.0, \"SM_Exgauster\\\\\\\\[2:97]\": 20.0, \"SM_Exgauster\\\\\\\\[2:98]\": 0.0, \"SM_Exgauster\\\\\\\\[2:99]\": 0.0, \"SM_Exgauster\\\\\\\\[2:100]\": 0.0, \"SM_Exgauster\\\\\\\\[2:101]\": 75.0, \"SM_Exgauster\\\\\\\\[2:102]\": 75.0, \"SM_Exgauster\\\\\\\\[2:103]\": 75.0, \"SM_Exgauster\\\\\\\\[2:104]\": 75.0, \"SM_Exgauster\\\\\\\\[2:105]\": 75.0, \"SM_Exgauster\\\\\\\\[2:106]\": 75.0, \"SM_Exgauster\\\\\\\\[2:107]\": 75.0, \"SM_Exgauster\\\\\\\\[2:108]\": 75.0, \"SM_Exgauster\\\\\\\\[2:109]\": 75.0, \"SM_Exgauster\\\\\\\\[2:110]\": 0.0, \"SM_Exgauster\\\\\\\\[2:111]\": 0.0, \"SM_Exgauster\\\\\\\\[2:112]\": 0.0, \"SM_Exgauster\\\\\\\\[2:113]\": 0.0, \"SM_Exgauster\\\\\\\\[2:114]\": 0.0, \"SM_Exgauster\\\\\\\\[2:115]\": 0.0, \"SM_Exgauster\\\\\\\\[2:116]\": 0.0, \"SM_Exgauster\\\\\\\\[2:117]\": 0.0, \"SM_Exgauster\\\\\\\\[2:118]\": 0.0, \"SM_Exgauster\\\\\\\\[2:119]\": 65.0, \"SM_Exgauster\\\\\\\\[2:120]\": 65.0, \"SM_Exgauster\\\\\\\\[2:121]\": 65.0, \"SM_Exgauster\\\\\\\\[2:122]\": 65.0, \"SM_Exgauster\\\\\\\\[2:123]\": 65.0, \"SM_Exgauster\\\\\\\\[2:124]\": 105.0, \"SM_Exgauster\\\\\\\\[2:125]\": 65.0, \"SM_Exgauster\\\\\\\\[2:126]\": 65.0, \"SM_Exgauster\\\\\\\\[2:127]\": 65.0, \"SM_Exgauster\\\\\\\\[2:128]\": 0.0, \"SM_Exgauster\\\\\\\\[2:129]\": 0.0, \"SM_Exgauster\\\\\\\\[2:130]\": 0.0, \"SM_Exgauster\\\\\\\\[2:131]\": 0.0, \"SM_Exgauster\\\\\\\\[2:132]\": 0.0, \"SM_Exgauster\\\\\\\\[2:133]\": 0.0, \"SM_Exgauster\\\\\\\\[2:134]\": 0.0, \"SM_Exgauster\\\\\\\\[2:135]\": 0.0, \"SM_Exgauster\\\\\\\\[2:136]\": 0.0, \"SM_Exgauster\\\\\\\\[2:137]\": 7.099999904632568, \"SM_Exgauster\\\\\\\\[2:138]\": 7.099999904632568, \"SM_Exgauster\\\\\\\\[2:139]\": 7.099999904632568, \"SM_Exgauster\\\\\\\\[2:140]\": 7.099999904632568, \"SM_Exgauster\\\\\\\\[2:141]\": 7.099999904632568, \"SM_Exgauster\\\\\\\\[2:142]\": 7.099999904632568, \"SM_Exgauster\\\\\\\\[2:143]\": 7.099999904632568, \"SM_Exgauster\\\\\\\\[2:144]\": 7.099999904632568, \"SM_Exgauster\\\\\\\\[2:145]\": 7.099999904632568, \"SM_Exgauster\\\\\\\\[2:146]\": 7.099999904632568, \"SM_Exgauster\\\\\\\\[2:147]\": 7.099999904632568, \"SM_Exgauster\\\\\\\\[2:148]\": 7.099999904632568, \"SM_Exgauster\\\\\\\\[2:149]\": 0.0, \"SM_Exgauster\\\\\\\\[2:150]\": 0.0, \"SM_Exgauster\\\\\\\\[2:151]\": 0.0, \"SM_Exgauster\\\\\\\\[2:152]\": 0.0, \"SM_Exgauster\\\\\\\\[2:153]\": 0.0, \"SM_Exgauster\\\\\\\\[2:154]\": 0.0, \"SM_Exgauster\\\\\\\\[2:155]\": 0.0, \"SM_Exgauster\\\\\\\\[2:156]\": 0.0, \"SM_Exgauster\\\\\\\\[2:157]\": 0.0, \"SM_Exgauster\\\\\\\\[2:158]\": 0.0, \"SM_Exgauster\\\\\\\\[2:159]\": 0.0, \"SM_Exgauster\\\\\\\\[2:160]\": 0.0, \"SM_Exgauster\\\\\\\\[2:161]\": 4.5, \"SM_Exgauster\\\\\\\\[2:162]\": 4.5, \"SM_Exgauster\\\\\\\\[2:163]\": 4.5, \"SM_Exgauster\\\\\\\\[2:164]\": 4.5, \"SM_Exgauster\\\\\\\\[2:165]\": 4.5, \"SM_Exgauster\\\\\\\\[2:166]\": 4.5, \"SM_Exgauster\\\\\\\\[2:167]\": 4.5, \"SM_Exgauster\\\\\\\\[2:168]\": 4.5, \"SM_Exgauster\\\\\\\\[2:169]\": 4.5, \"SM_Exgauster\\\\\\\\[2:170]\": 4.5, \"SM_Exgauster\\\\\\\\[2:171]\": 4.5, \"SM_Exgauster\\\\\\\\[2:172]\": 4.5, \"SM_Exgauster\\\\\\\\[2:173]\": 0.0, \"SM_Exgauster\\\\\\\\[2:174]\": 0.0, \"SM_Exgauster\\\\\\\\[2:175]\": 0.0, \"SM_Exgauster\\\\\\\\[2:176]\": 0.0, \"SM_Exgauster\\\\\\\\[2:177]\": 0.0, \"SM_Exgauster\\\\\\\\[2:178]\": 0.0, \"SM_Exgauster\\\\\\\\[2:179]\": 0.0, \"SM_Exgauster\\\\\\\\[2:180]\": 0.0, \"SM_Exgauster\\\\\\\\[2:181]\": 0.0, \"SM_Exgauster\\\\\\\\[2:182]\": 0.0, \"SM_Exgauster\\\\\\\\[2:183]\": 0.0, \"SM_Exgauster\\\\\\\\[2:184]\": 0.0, \"SM_Exgauster\\\\\\\\[2:185]\": 7.099999904632568, \"SM_Exgauster\\\\\\\\[2:186]\": 7.099999904632568, \"SM_Exgauster\\\\\\\\[2:187]\": 7.099999904632568, \"SM_Exgauster\\\\\\\\[2:188]\": 7.099999904632568, \"SM_Exgauster\\\\\\\\[2:189]\": 7.099999904632568, \"SM_Exgauster\\\\\\\\[2:190]\": 7.099999904632568, \"SM_Exgauster\\\\\\\\[2:191]\": 10.0, \"SM_Exgauster\\\\\\\\[2:192]\": 10.0, \"SM_Exgauster\\\\\\\\[2:193]\": 7.099999904632568, \"SM_Exgauster\\\\\\\\[2:194]\": 10.0, \"SM_Exgauster\\\\\\\\[2:195]\": 10.0, \"SM_Exgauster\\\\\\\\[2:196]\": 7.099999904632568, \"SM_Exgauster\\\\\\\\[2:197]\": 0.0, \"SM_Exgauster\\\\\\\\[2:198]\": 0.0, \"SM_Exgauster\\\\\\\\[2:199]\": 0.0, \"SM_Exgauster\\\\\\\\[2:200]\": 0.0, \"SM_Exgauster\\\\\\\\[2:201]\": 0.0, \"SM_Exgauster\\\\\\\\[2:202]\": 0.0, \"SM_Exgauster\\\\\\\\[2:203]\": 0.0, \"SM_Exgauster\\\\\\\\[2:204]\": 0.0, \"SM_Exgauster\\\\\\\\[2:205]\": 0.0, \"SM_Exgauster\\\\\\\\[2:206]\": 0.0, \"SM_Exgauster\\\\\\\\[2:207]\": 0.0, \"SM_Exgauster\\\\\\\\[2:208]\": 0.0, \"SM_Exgauster\\\\\\\\[2:209]\": 4.5, \"SM_Exgauster\\\\\\\\[2:210]\": 4.5, \"SM_Exgauster\\\\\\\\[2:211]\": 4.5, \"SM_Exgauster\\\\\\\\[2:212]\": 4.5, \"SM_Exgauster\\\\\\\\[2:213]\": 4.5, \"SM_Exgauster\\\\\\\\[2:214]\": 4.5, \"SM_Exgauster\\\\\\\\[2:215]\": 4.5, \"SM_Exgauster\\\\\\\\[2:216]\": 4.5, \"SM_Exgauster\\\\\\\\[2:217]\": 4.5, \"SM_Exgauster\\\\\\\\[2:218]\": 4.5, \"SM_Exgauster\\\\\\\\[2:219]\": 4.5, \"SM_Exgauster\\\\\\\\[2:220]\": 4.5, \"SM_Exgauster\\\\\\\\[2:221]\": 0.0, \"SM_Exgauster\\\\\\\\[2:222]\": 0.0, \"SM_Exgauster\\\\\\\\[2:223]\": 0.0, \"SM_Exgauster\\\\\\\\[2:224]\": 0.0, \"SM_Exgauster\\\\\\\\[2:225]\": 0.0, \"SM_Exgauster\\\\\\\\[2:226]\": 0.0, \"SM_Exgauster\\\\\\\\[2:227]\": 0.0, \"SM_Exgauster\\\\\\\\[2:228]\": 0.0, \"SM_Exgauster\\\\\\\\[2:229]\": 0.0, \"SM_Exgauster\\\\\\\\[2:230]\": 0.0, \"SM_Exgauster\\\\\\\\[2:231]\": 0.0, \"SM_Exgauster\\\\\\\\[2:232]\": 0.0, \"SM_Exgauster\\\\\\\\[2.0]\": 1.0, \"SM_Exgauster\\\\\\\\[2.1]\": 1.0, \"SM_Exgauster\\\\\\\\[3:0]\": 1.1111111640930176, \"SM_Exgauster\\\\\\\\[3:1]\": 1.105324149131775, \"SM_Exgauster\\\\\\\\[3:2]\": 0.78125, \"SM_Exgauster\\\\\\\\[3:3]\": 1.1631944179534912, \"SM_Exgauster\\\\\\\\[3:4]\": 1.4467592239379883, \"SM_Exgauster\\\\\\\\[3:5]\": 1.0127315521240234, \"SM_Exgauster\\\\\\\\[3:6]\": 0.8407721519470215, \"SM_Exgauster\\\\\\\\[3:7]\": 0.694444477558136, \"SM_Exgauster\\\\\\\\[3:8]\": 2.118055582046509, \"SM_Exgauster\\\\\\\\[3:9]\": 0.7207940816879272, \"SM_Exgauster\\\\\\\\[3:10]\": 0.47453704476356506, \"SM_Exgauster\\\\\\\\[3:11]\": 4.375, \"SM_Exgauster\\\\\\\\[3:12]\": 0.7754629850387573, \"SM_Exgauster\\\\\\\\[3:13]\": 0.5439814925193787, \"SM_Exgauster\\\\\\\\[3:14]\": 0.2256944477558136, \"SM_Exgauster\\\\\\\\[3:15]\": 0.6423611044883728, \"SM_Exgauster\\\\\\\\[3:16]\": 0.5555555820465088, \"SM_Exgauster\\\\\\\\[3:17]\": 1.238425850868225, \"SM_Exgauster\\\\\\\\[3:18]\": 0.6307870149612427, \"SM_Exgauster\\\\\\\\[3:19]\": 0.5034722089767456, \"SM_Exgauster\\\\\\\\[3:20]\": 1.082175850868225, \"SM_Exgauster\\\\\\\\[3:21]\": 0.4166666865348816, \"SM_Exgauster\\\\\\\\[3:22]\": 0.30218157172203064, \"SM_Exgauster\\\\\\\\[3:23]\": 0.6192129254341125, \"SM_Exgauster\\\\\\\\[3:24]\": 83.97137451171875, \"SM_Exgauster\\\\\\\\[3:25]\": 88.57129669189453, \"SM_Exgauster\\\\\\\\[3:27]\": 43.599998474121094, \"SM_Exgauster\\\\\\\\[3:28]\": 52.600006103515625, \"SM_Exgauster\\\\\\\\[3:29]\": 42.900001525878906, \"SM_Exgauster\\\\\\\\[3:30]\": 52.19999694824219, \"SM_Exgauster\\\\\\\\[3:31]\": 48.0, \"SM_Exgauster\\\\\\\\[3:32]\": 46.900001525878906, \"SM_Exgauster\\\\\\\\[3:33]\": 35.099998474121094, \"SM_Exgauster\\\\\\\\[3:34]\": 41.30000305175781, \"SM_Exgauster\\\\\\\\[3:35]\": 40.099998474121094, \"SM_Exgauster\\\\\\\\[3:36]\": 23.599998474121094, \"SM_Exgauster\\\\\\\\[3:37]\": -3276.800048828125, \"SM_Exgauster\\\\\\\\[3:41]\": 32.70000457763672, \"SM_Exgauster\\\\\\\\[3:42]\": 33.400001525878906, \"SM_Exgauster\\\\\\\\[3:43]\": 54.599998474121094, \"SM_Exgauster\\\\\\\\[3:44]\": 50.80000305175781, \"SM_Exgauster\\\\\\\\[3:45]\": 51.90000915527344, \"SM_Exgauster\\\\\\\\[3:46]\": -3276.800048828125, \"SM_Exgauster\\\\\\\\[3:47]\": 50.19999694824219, \"SM_Exgauster\\\\\\\\[3:48]\": 55.20000457763672, \"SM_Exgauster\\\\\\\\[3:49]\": 50.0, \"SM_Exgauster\\\\\\\\[3:50]\": 41.5, \"SM_Exgauster\\\\\\\\[3:51]\": 40.599998474121094, \"SM_Exgauster\\\\\\\\[3:52]\": 38.599998474121094, \"SM_Exgauster\\\\\\\\[3:53]\": 20.0, \"SM_Exgauster\\\\\\\\[3:54]\": -3276.800048828125, \"SM_Exgauster\\\\\\\\[3:55]\": -3276.800048828125, \"SM_Exgauster\\\\\\\\[3:56]\": -3276.800048828125, \"SM_Exgauster\\\\\\\\[3:57]\": -3276.800048828125, \"SM_Exgauster\\\\\\\\[3:58]\": -3276.800048828125, \"SM_Exgauster\\\\\\\\[3:59]\": 41.900001525878906, \"SM_Exgauster\\\\\\\\[3:60]\": 39.70000457763672, \"SM_Exgauster\\\\\\\\[3:61]\": 661.1690063476562, \"SM_Exgauster\\\\\\\\[3:62]\": 621.3831176757812, \"SM_Exgauster\\\\\\\\[3:63]\": 75.0, \"SM_Exgauster\\\\\\\\[3:64]\": 75.0, \"SM_Exgauster\\\\\\\\[3:65]\": 75.0, \"SM_Exgauster\\\\\\\\[3:66]\": 75.0, \"SM_Exgauster\\\\\\\\[3:67]\": 75.0, \"SM_Exgauster\\\\\\\\[3:68]\": 75.0, \"SM_Exgauster\\\\\\\\[3:69]\": 75.0, \"SM_Exgauster\\\\\\\\[3:70]\": 75.0, \"SM_Exgauster\\\\\\\\[3:71]\": 75.0, \"SM_Exgauster\\\\\\\\[3:72]\": 0.0, \"SM_Exgauster\\\\\\\\[3:73]\": 0.0, \"SM_Exgauster\\\\\\\\[3:74]\": 0.0, \"SM_Exgauster\\\\\\\\[3:75]\": 0.0, \"SM_Exgauster\\\\\\\\[3:76]\": 0.0, \"SM_Exgauster\\\\\\\\[3:77]\": 0.0, \"SM_Exgauster\\\\\\\\[3:78]\": 0.0, \"SM_Exgauster\\\\\\\\[3:79]\": 0.0, \"SM_Exgauster\\\\\\\\[3:80]\": 0.0, \"SM_Exgauster\\\\\\\\[3:81]\": 65.0, \"SM_Exgauster\\\\\\\\[3:82]\": 65.0, \"SM_Exgauster\\\\\\\\[3:83]\": 65.0, \"SM_Exgauster\\\\\\\\[3:84]\": 65.0, \"SM_Exgauster\\\\\\\\[3:85]\": 65.0, \"SM_Exgauster\\\\\\\\[3:86]\": 65.0, \"SM_Exgauster\\\\\\\\[3:87]\": 65.0, \"SM_Exgauster\\\\\\\\[3:88]\": 65.0, \"SM_Exgauster\\\\\\\\[3:89]\": 65.0, \"SM_Exgauster\\\\\\\\[3:90]\": 0.0, \"SM_Exgauster\\\\\\\\[3:91]\": 0.0, \"SM_Exgauster\\\\\\\\[3:92]\": 0.0, \"SM_Exgauster\\\\\\\\[3:93]\": 0.0, \"SM_Exgauster\\\\\\\\[3:94]\": 0.0, \"SM_Exgauster\\\\\\\\[3:95]\": 0.0, \"SM_Exgauster\\\\\\\\[3:96]\": 0.0, \"SM_Exgauster\\\\\\\\[3:97]\": 0.0, \"SM_Exgauster\\\\\\\\[3:98]\": 0.0, \"SM_Exgauster\\\\\\\\[3:99]\": 75.0, \"SM_Exgauster\\\\\\\\[3:100]\": 75.0, \"SM_Exgauster\\\\\\\\[3:101]\": 75.0, \"SM_Exgauster\\\\\\\\[3:102]\": 75.0, \"SM_Exgauster\\\\\\\\[3:103]\": 75.0, \"SM_Exgauster\\\\\\\\[3:104]\": 75.0, \"SM_Exgauster\\\\\\\\[3:105]\": 75.0, \"SM_Exgauster\\\\\\\\[3:106]\": 75.0, \"SM_Exgauster\\\\\\\\[3:107]\": 75.0, \"SM_Exgauster\\\\\\\\[3:108]\": 0.0, \"SM_Exgauster\\\\\\\\[3:109]\": 0.0, \"SM_Exgauster\\\\\\\\[3:110]\": 0.0, \"SM_Exgauster\\\\\\\\[3:111]\": 0.0, \"SM_Exgauster\\\\\\\\[3:112]\": 0.0, \"SM_Exgauster\\\\\\\\[3:113]\": 0.0, \"SM_Exgauster\\\\\\\\[3:114]\": 0.0, \"SM_Exgauster\\\\\\\\[3:115]\": 0.0, \"SM_Exgauster\\\\\\\\[3:116]\": 0.0, \"SM_Exgauster\\\\\\\\[3:117]\": 65.0, \"SM_Exgauster\\\\\\\\[3:118]\": 65.0, \"SM_Exgauster\\\\\\\\[3:119]\": 65.0, \"SM_Exgauster\\\\\\\\[3:120]\": 65.0, \"SM_Exgauster\\\\\\\\[3:121]\": 65.0, \"SM_Exgauster\\\\\\\\[3:122]\": 65.0, \"SM_Exgauster\\\\\\\\[3:123]\": 65.0, \"SM_Exgauster\\\\\\\\[3:124]\": 65.0, \"SM_Exgauster\\\\\\\\[3:125]\": 65.0, \"SM_Exgauster\\\\\\\\[3:126]\": 0.0, \"SM_Exgauster\\\\\\\\[3:127]\": 0.0, \"SM_Exgauster\\\\\\\\[3:128]\": 0.0, \"SM_Exgauster\\\\\\\\[3:129]\": 0.0, \"SM_Exgauster\\\\\\\\[3:130]\": 0.0, \"SM_Exgauster\\\\\\\\[3:131]\": 0.0, \"SM_Exgauster\\\\\\\\[3:132]\": 0.0, \"SM_Exgauster\\\\\\\\[3:133]\": 0.0, \"SM_Exgauster\\\\\\\\[3:134]\": 0.0, \"SM_Exgauster\\\\\\\\[3:135]\": 7.099999904632568, \"SM_Exgauster\\\\\\\\[3:136]\": 7.099999904632568, \"SM_Exgauster\\\\\\\\[3:137]\": 7.099999904632568, \"SM_Exgauster\\\\\\\\[3:138]\": 7.099999904632568, \"SM_Exgauster\\\\\\\\[3:139]\": 7.099999904632568, \"SM_Exgauster\\\\\\\\[3:140]\": 7.099999904632568, \"SM_Exgauster\\\\\\\\[3:141]\": 7.099999904632568, \"SM_Exgauster\\\\\\\\[3:142]\": 7.099999904632568, \"SM_Exgauster\\\\\\\\[3:143]\": 7.099999904632568, \"SM_Exgauster\\\\\\\\[3:144]\": 7.099999904632568, \"SM_Exgauster\\\\\\\\[3:145]\": 7.099999904632568, \"SM_Exgauster\\\\\\\\[3:146]\": 7.099999904632568, \"SM_Exgauster\\\\\\\\[3:147]\": 0.0, \"SM_Exgauster\\\\\\\\[3:148]\": 0.0, \"SM_Exgauster\\\\\\\\[3:149]\": 0.0, \"SM_Exgauster\\\\\\\\[3:150]\": 0.0, \"SM_Exgauster\\\\\\\\[3:151]\": 0.0, \"SM_Exgauster\\\\\\\\[3:152]\": 0.0, \"SM_Exgauster\\\\\\\\[3:153]\": 0.0, \"SM_Exgauster\\\\\\\\[3:154]\": 0.0, \"SM_Exgauster\\\\\\\\[3:155]\": 0.0, \"SM_Exgauster\\\\\\\\[3:156]\": 0.0, \"SM_Exgauster\\\\\\\\[3:157]\": 0.0, \"SM_Exgauster\\\\\\\\[3:158]\": 0.0, \"SM_Exgauster\\\\\\\\[3:159]\": 4.5, \"SM_Exgauster\\\\\\\\[3:160]\": 4.5, \"SM_Exgauster\\\\\\\\[3:161]\": 4.5, \"SM_Exgauster\\\\\\\\[3:162]\": 4.5, \"SM_Exgauster\\\\\\\\[3:163]\": 4.5, \"SM_Exgauster\\\\\\\\[3:164]\": 4.5, \"SM_Exgauster\\\\\\\\[3:165]\": 4.5, \"SM_Exgauster\\\\\\\\[3:166]\": 4.5, \"SM_Exgauster\\\\\\\\[3:167]\": 4.5, \"SM_Exgauster\\\\\\\\[3:168]\": 4.5, \"SM_Exgauster\\\\\\\\[3:169]\": 4.5, \"SM_Exgauster\\\\\\\\[3:170]\": 4.5, \"SM_Exgauster\\\\\\\\[3:171]\": 0.0, \"SM_Exgauster\\\\\\\\[3:172]\": 0.0, \"SM_Exgauster\\\\\\\\[3:173]\": 0.0, \"SM_Exgauster\\\\\\\\[3:174]\": 0.0, \"SM_Exgauster\\\\\\\\[3:175]\": 0.0, \"SM_Exgauster\\\\\\\\[3:176]\": 0.0, \"SM_Exgauster\\\\\\\\[3:177]\": 0.0, \"SM_Exgauster\\\\\\\\[3:178]\": 0.0, \"SM_Exgauster\\\\\\\\[3:179]\": 0.0, \"SM_Exgauster\\\\\\\\[3:180]\": 0.0, \"SM_Exgauster\\\\\\\\[3:181]\": 0.0, \"SM_Exgauster\\\\\\\\[3:182]\": 0.0, \"SM_Exgauster\\\\\\\\[3:183]\": 7.099999904632568, \"SM_Exgauster\\\\\\\\[3:184]\": 7.099999904632568, \"SM_Exgauster\\\\\\\\[3:185]\": 7.099999904632568, \"SM_Exgauster\\\\\\\\[3:186]\": 7.099999904632568, \"SM_Exgauster\\\\\\\\[3:187]\": 7.099999904632568, \"SM_Exgauster\\\\\\\\[3:188]\": 7.099999904632568, \"SM_Exgauster\\\\\\\\[3:189]\": 7.099999904632568, \"SM_Exgauster\\\\\\\\[3:190]\": 7.099999904632568, \"SM_Exgauster\\\\\\\\[3:191]\": 7.099999904632568, \"SM_Exgauster\\\\\\\\[3:192]\": 7.099999904632568, \"SM_Exgauster\\\\\\\\[3:193]\": 7.099999904632568, \"SM_Exgauster\\\\\\\\[3:194]\": 7.099999904632568, \"SM_Exgauster\\\\\\\\[3:195]\": 0.0, \"SM_Exgauster\\\\\\\\[3:196]\": 0.0, \"SM_Exgauster\\\\\\\\[3:197]\": 0.0, \"SM_Exgauster\\\\\\\\[3:198]\": 0.0, \"SM_Exgauster\\\\\\\\[3:199]\": 0.0, \"SM_Exgauster\\\\\\\\[3:200]\": 0.0, \"SM_Exgauster\\\\\\\\[3:201]\": 0.0, \"SM_Exgauster\\\\\\\\[3:202]\": 0.0, \"SM_Exgauster\\\\\\\\[3:203]\": 0.0, \"SM_Exgauster\\\\\\\\[3:204]\": 0.0, \"SM_Exgauster\\\\\\\\[3:205]\": 0.0, \"SM_Exgauster\\\\\\\\[3:206]\": 0.0, \"SM_Exgauster\\\\\\\\[3:207]\": 4.5, \"SM_Exgauster\\\\\\\\[3:208]\": 4.5, \"SM_Exgauster\\\\\\\\[3:209]\": 4.5, \"SM_Exgauster\\\\\\\\[3:210]\": 4.5, \"SM_Exgauster\\\\\\\\[3:211]\": 4.5, \"SM_Exgauster\\\\\\\\[3:212]\": 4.5, \"SM_Exgauster\\\\\\\\[3:213]\": 4.5, \"SM_Exgauster\\\\\\\\[3:214]\": 4.5, \"SM_Exgauster\\\\\\\\[3:215]\": 4.5, \"SM_Exgauster\\\\\\\\[3:216]\": 4.5, \"SM_Exgauster\\\\\\\\[3:217]\": 4.5, \"SM_Exgauster\\\\\\\\[3:218]\": 4.5, \"SM_Exgauster\\\\\\\\[3:219]\": 0.0, \"SM_Exgauster\\\\\\\\[3:220]\": 0.0, \"SM_Exgauster\\\\\\\\[3:221]\": 0.0, \"SM_Exgauster\\\\\\\\[3:222]\": 0.0, \"SM_Exgauster\\\\\\\\[3:223]\": 0.0, \"SM_Exgauster\\\\\\\\[3:224]\": 0.0, \"SM_Exgauster\\\\\\\\[3:225]\": 0.0, \"SM_Exgauster\\\\\\\\[3:226]\": 0.0, \"SM_Exgauster\\\\\\\\[3:227]\": 0.0, \"SM_Exgauster\\\\\\\\[3:228]\": 0.0, \"SM_Exgauster\\\\\\\\[3:229]\": 0.0, \"SM_Exgauster\\\\\\\\[3:230]\": 0.0, \"SM_Exgauster\\\\\\\\[3.0]\": 1.0, \"SM_Exgauster\\\\\\\\[3.1]\": 1.0, \"SM_Exgauster\\\\\\\\[4:0]\": 79.17459869384766, \"SM_Exgauster\\\\\\\\[4:1]\": 2.1130404472351074, \"SM_Exgauster\\\\\\\\[4:3]\": 186.10992431640625, \"SM_Exgauster\\\\\\\\[4:7]\": 91.47721099853516, \"SM_Exgauster\\\\\\\\[4:8]\": 2.089968681335449, \"SM_Exgauster\\\\\\\\[4:10]\": 169.8216552734375, \"SM_Exgauster\\\\\\\\[4.0]\": 1.0, \"SM_Exgauster\\\\\\\\[4.1]\": 0.0, \"SM_Exgauster\\\\\\\\[4.2]\": 1.0, \"SM_Exgauster\\\\\\\\[4.3]\": 0.0, \"SM_Exgauster\\\\\\\\[4.4]\": 0.0, \"SM_Exgauster\\\\\\\\[4.5]\": 1.0, \"SM_Exgauster\\\\\\\\[4.6]\": 0.0, \"SM_Exgauster\\\\\\\\[4.7]\": 1.0, \"SM_Exgauster\\\\\\\\[4.8]\": 0.0, \"SM_Exgauster\\\\\\\\[4.9]\": 0.0, \"SM_Exgauster\\\\\\\\[5:0]\": 83.30000305175781, \"SM_Exgauster\\\\\\\\[5:1]\": 0.7680000066757202, \"SM_Exgauster\\\\\\\\[5:2]\": 2030.0, \"SM_Exgauster\\\\\\\\[5:3]\": 1844.0, \"SM_Exgauster\\\\\\\\[5:4]\": 468.0, \"SM_Exgauster\\\\\\\\[5:5]\": 107.0, \"SM_Exgauster\\\\\\\\[5:6]\": 10.0, \"SM_Exgauster\\\\\\\\[5:7]\": 86.5999984741211, \"SM_Exgauster\\\\\\\\[5:8]\": 1.899999976158142, \"SM_Exgauster\\\\\\\\[5:9]\": 2393.0, \"SM_Exgauster\\\\\\\\[5:10]\": 1941.0, \"SM_Exgauster\\\\\\\\[5:11]\": 538.0, \"SM_Exgauster\\\\\\\\[5:12]\": 106.0, \"SM_Exgauster\\\\\\\\[5:13]\": 10.0, \"SM_Exgauster\\\\\\\\[5.0]\": 1.0, \"SM_Exgauster\\\\\\\\[5.1]\": 1.0, \"SM_Exgauster\\\\\\\\[5.2]\": 1.0, \"SM_Exgauster\\\\\\\\[5.3]\": 0.0, \"SM_Exgauster\\\\\\\\[5.4]\": 0.0, \"SM_Exgauster\\\\\\\\[5.5]\": 1.0, \"SM_Exgauster\\\\\\\\[5.6]\": 1.0, \"SM_Exgauster\\\\\\\\[5.7]\": 1.0, \"SM_Exgauster\\\\\\\\[5.8]\": 0.0, \"SM_Exgauster\\\\\\\\[5.9]\": 0.0, \"SM_Exgauster\\\\\\\\[6:0]\": 604.7347412109375, \"SM_Exgauster\\\\\\\\[6:1]\": 127.85517883300781, \"SM_Exgauster\\\\\\\\[6:2]\": 2.8986048698425293, \"SM_Exgauster\\\\\\\\[6.0]\": 1.0, \"SM_Exgauster\\\\\\\\[7:0]\": 656.9873046875, \"SM_Exgauster\\\\\\\\[7:1]\": 122.46819305419922, \"SM_Exgauster\\\\\\\\[7:2]\": 3.4925191402435303, \"SM_Exgauster\\\\\\\\[7.0]\": 1.0, \"SM_Exgauster\\\\\\\\[8:0]\": 518.3525390625, \"SM_Exgauster\\\\\\\\[8:1]\": 113.38932800292969, \"SM_Exgauster\\\\\\\\[8:2]\": 3.5994646549224854, \"SM_Exgauster\\\\\\\\[8.0]\": 1.0}', headers=[], checksum=None, serialized_key_size=-1, serialized_value_size=26268, serialized_header_size=-1)"
      ]
     },
     "execution_count": 7,
     "metadata": {},
     "output_type": "execute_result"
    }
   ],
   "source": [
    "next(consumer)"
   ]
  },
  {
   "cell_type": "code",
   "execution_count": 8,
   "id": "af7ee4a7",
   "metadata": {},
   "outputs": [],
   "source": [
    "consumer.close()"
   ]
  }
 ],
 "metadata": {
  "kernelspec": {
   "display_name": "Python 3 (ipykernel)",
   "language": "python",
   "name": "python3"
  },
  "language_info": {
   "codemirror_mode": {
    "name": "ipython",
    "version": 3
   },
   "file_extension": ".py",
   "mimetype": "text/x-python",
   "name": "python",
   "nbconvert_exporter": "python",
   "pygments_lexer": "ipython3",
   "version": "3.10.7"
  }
 },
 "nbformat": 4,
 "nbformat_minor": 5
}
