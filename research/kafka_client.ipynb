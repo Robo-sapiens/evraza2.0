{
 "cells": [
  {
   "cell_type": "markdown",
   "id": "817760db",
   "metadata": {},
   "source": [
    "# Getting started with Kafka"
   ]
  },
  {
   "cell_type": "code",
   "execution_count": 1,
   "id": "dc6c14d9",
   "metadata": {},
   "outputs": [],
   "source": [
    "# !pip install kafka-python"
   ]
  },
  {
   "cell_type": "code",
   "execution_count": 2,
   "id": "ac8b47e4",
   "metadata": {},
   "outputs": [],
   "source": [
    "from kafka import KafkaClient"
   ]
  },
  {
   "cell_type": "markdown",
   "id": "13f7392d",
   "metadata": {},
   "source": [
    "[KafkaClient](https://kafka-python.readthedocs.io/en/master/apidoc/KafkaClient.html)"
   ]
  },
  {
   "cell_type": "markdown",
   "id": "e31c926b",
   "metadata": {},
   "source": [
    "### Connection data"
   ]
  },
  {
   "cell_type": "code",
   "execution_count": 3,
   "id": "dad84f1d",
   "metadata": {},
   "outputs": [],
   "source": [
    "KAFKA_HOST = \"rc1a-b5e65f36lm3an1d5.mdb.yandexcloud.net:9091\"\n",
    "KAFKA_TOPIC = \"zsmk-9433-dev-01\"\n",
    "\n",
    "KAFKA_GROUP = \"Robo sapiens\"\n",
    "KAFKA_USER = \"9433_reader\"\n",
    "KAFKA_PASSWORD = \"eUIpgWu0PWTJaTrjhjQD3.hoyhntiK\"\n",
    "\n",
    "SASL_MECHANISM = \"SCRAM-SHA-512\"\n",
    "SASL_SSL = \"SASL_SSL\"\n",
    "CAFILE = \"CA.pem\""
   ]
  },
  {
   "cell_type": "markdown",
   "id": "c049b160",
   "metadata": {},
   "source": [
    "### Create client instance"
   ]
  },
  {
   "cell_type": "code",
   "execution_count": 4,
   "id": "a82e644e",
   "metadata": {},
   "outputs": [],
   "source": [
    "client = KafkaClient(\n",
    "    bootstrap_servers=KAFKA_HOST,\n",
    "    group_id=KAFKA_GROUP,\n",
    "    sasl_plain_username=KAFKA_USER,\n",
    "    sasl_plain_password=KAFKA_PASSWORD,\n",
    "    sasl_mechanism=SASL_MECHANISM,\n",
    "    security_protocol=SASL_SSL,\n",
    "    ssl_cafile=CAFILE,\n",
    ")"
   ]
  },
  {
   "cell_type": "markdown",
   "id": "72cd0c9e",
   "metadata": {},
   "source": [
    "### Check Kafka is connected"
   ]
  },
  {
   "cell_type": "code",
   "execution_count": 5,
   "id": "a7b76a6c",
   "metadata": {},
   "outputs": [
    {
     "data": {
      "text/plain": [
       "True"
      ]
     },
     "execution_count": 5,
     "metadata": {},
     "output_type": "execute_result"
    }
   ],
   "source": [
    "client.bootstrap_connected()"
   ]
  },
  {
   "cell_type": "markdown",
   "id": "da505e03",
   "metadata": {},
   "source": [
    "### Close connection"
   ]
  },
  {
   "cell_type": "code",
   "execution_count": 6,
   "id": "2e44f821",
   "metadata": {},
   "outputs": [],
   "source": [
    "client.close()"
   ]
  }
 ],
 "metadata": {
  "kernelspec": {
   "display_name": "Python 3 (ipykernel)",
   "language": "python",
   "name": "python3"
  },
  "language_info": {
   "codemirror_mode": {
    "name": "ipython",
    "version": 3
   },
   "file_extension": ".py",
   "mimetype": "text/x-python",
   "name": "python",
   "nbconvert_exporter": "python",
   "pygments_lexer": "ipython3",
   "version": "3.10.7"
  }
 },
 "nbformat": 4,
 "nbformat_minor": 5
}
